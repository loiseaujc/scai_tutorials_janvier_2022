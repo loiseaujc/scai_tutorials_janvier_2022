{
 "cells": [
  {
   "cell_type": "markdown",
   "id": "b56edb31",
   "metadata": {},
   "source": [
    "<div class=\"row\">\n",
    "  <div class=\"column\">\n",
    "<img align=\"left\" width=\"200\" height=\"42\" src=\"https://assets.ensam.eu/logo/fr/logo-trans-322x84.png\" />  </div>\n",
    "  <div class=\"column\">\n",
    "<img align=\"right\" width=\"120\" height=\"42\" src=\"https://upload.wikimedia.org/wikipedia/commons/b/bd/CC-BY-NC-SA.svg\"/>  </div>\n",
    "</div>\n",
    "\n",
    "Jean-Christophe Loiseau  \n",
    "Maître de Conférences  \n",
    "&#128231; : jean-christophe.loiseau@ensam.eu  \n",
    "&#128197; : 13 Mai 2022"
   ]
  },
  {
   "cell_type": "code",
   "execution_count": 1,
   "id": "62518aca",
   "metadata": {},
   "outputs": [],
   "source": [
    "import numpy as np\n",
    "from scipy.linalg import pinv, svd, eig, eigvalsh, eigvals, svdvals, inv, cholesky\n",
    "\n",
    "import matplotlib.pyplot as plt\n",
    "%matplotlib inline\n",
    "\n",
    "# -->\n",
    "from scipy.signal import dlti, dlsim\n",
    "from scipy.linalg import solve_discrete_lyapunov"
   ]
  },
  {
   "cell_type": "markdown",
   "id": "8cbf3106",
   "metadata": {},
   "source": [
    "# Introduction to model order reduction and system identification\n",
    "\n",
    "This notebook is an introduction to model order reduction and system identification for input-output linear time-invariant (LTI) dynamical systems.\n",
    "It is used as supplementary material for the short course **On the importance of low-dimensional structures for data-driven modeling** given during the *Semaine d'immersion à l'IA* at the [Sorbonne Center for Artificial Intelligence](https://scai.sorbonne-universite.fr/).\n",
    "As for the other notebooks included in this [GitHub repository](https://github.com/loiseaujc/scai_tutorials_mai_2022), its aim is to illustrate how ubiquituous the [singular value decomposition](https://en.wikipedia.org/wiki/Singular_value_decomposition) is.\n",
    "\n",
    "## Some definitions\n",
    "\n",
    "Let us start by giving some definitions.\n",
    "Throughout this notebook, we'll consider linear dynamical systems of the general form\n",
    "\n",
    "$$\n",
    "\\begin{aligned}\n",
    "    \\mathbf{x}_{i+1} & = \\mathbf{Ax}_k + \\mathbf{Bu}_k \\\\\n",
    "    \\mathbf{y}_k & = \\mathbf{Cx}_k + \\mathbf{Du}_k\n",
    "\\end{aligned}\n",
    "$$\n",
    "\n",
    "where $\\mathbf{x} \\in \\mathbb{R}^n$ denotes the state vector of the system, $\\mathbf{u} \\in \\mathbb{R}^p$ represents the input, and $\\mathbf{y} \\in \\mathbb{R}^q$ is the vector of measurements collected from different sensors.\n",
    "The matrix $\\mathbf{A} \\in \\mathbb{R}^{n \\times n}$ describes the natural dynamics of the system, while $\\mathbf{B} \\in \\mathbf{R}^{n \\times p}$ describes how the input $\\mathbf{u}$ influences the state $\\mathbf{x}$ and is sometimes called the *input-to-state matrix*.\n",
    "Similarly, the matrix $\\mathbf{C} \\in \\mathbb{R}^{q \\times n}$ describes the type of measurements being collected, while $\\mathbf{D} \\in \\mathbb{R}^{q \\times p}$ describes how the input might directly influence the output.\n",
    "Without loss of generality, we'll assume in the rest of this notebook that $\\mathbf{D} = \\mathbf{0}$.\n",
    "\n",
    "By the end of this notebook, two majors techniques will be introduced.\n",
    "The first one is a *projection-based technique*.\n",
    "Its aim is to obtain a reduced-order model (i.e. a proxy system with $r \\ll n$ states) by making use of the explicit knowledge of the $\\mathbf{A}$, $\\mathbf{B}$, and $\\mathbf{C}$ matrices.\n",
    "The second approach is a *system identification technique*.\n",
    "Its goal is similar to the first approach, albeit we no longer assume that $\\mathbf{A}$, $\\mathbf{B}$, and $\\mathbf{C}$ are known.\n",
    "Instead, we'll try to identify a reduced-order model solely based on input-output data, i.e. on time series of the input $\\mathbf{u}$ and the corresponding output $\\mathbf{y}$.\n",
    "Both of these approaches rely on fundamental objects from control theory that we now define.\n",
    "\n",
    "### The controlability $\\mathcal{R}(\\mathbf{A}, \\mathbf{B})$ and observability $\\mathcal{O}(\\mathbf{A}, \\mathbf{C})$ matrices\n",
    "\n",
    "### The controlability $\\mathbf{W}_{\\mathcal{C}}$ and observability $\\mathbf{W}_{\\mathbf{O}}$ gramians\n",
    "\n",
    "### The Hankel operator $\\mathcal{H}$"
   ]
  },
  {
   "cell_type": "code",
   "execution_count": 2,
   "id": "db77742a",
   "metadata": {},
   "outputs": [],
   "source": [
    "def rss(n, p, q):\n",
    "    \"\"\"\n",
    "    Generates a random state space model of a (stable) discrete\n",
    "    time linear system with n degrees of freedom, p input and q\n",
    "    output.\n",
    "    \n",
    "    INPUT\n",
    "    -----\n",
    "    \n",
    "    n : int\n",
    "        Number of degrees of freedom in the system.\n",
    "        \n",
    "    p : int\n",
    "        Number of input to the system.\n",
    "        \n",
    "    q : int\n",
    "        Number of output of the system.\n",
    "        \n",
    "    RETURN\n",
    "    ------\n",
    "    \n",
    "    sys : d\n",
    "          State space model.\n",
    "    \n",
    "    \"\"\"\n",
    "    \n",
    "    ############################\n",
    "    #####     DYNAMICS     #####\n",
    "    ############################\n",
    "    \n",
    "    # --> Generate a random linear dynamics matrix.\n",
    "    A = np.random.randn(n, n)\n",
    "    \n",
    "    # --> Compute its eigendecomposition.\n",
    "    Λ, V = eig(A)\n",
    "    \n",
    "    # --> Forces the eigenvalues to be inside the unit circle.\n",
    "    Λ = 0.9 * Λ / np.abs(Λ).max()\n",
    "    \n",
    "    # --> Reconstruct the stable dynamics matrix.\n",
    "    A = (V @ np.diag(Λ) @ pinv(V)).real\n",
    "    \n",
    "    #########################################\n",
    "    #####     INPUT/OUTPUT MATRICES     #####\n",
    "    #########################################\n",
    "    \n",
    "    # --> Input-to-state matrix.\n",
    "    B = np.random.randn(n, p)\n",
    "    \n",
    "    # --> State-to-output matrix.\n",
    "    C = np.random.randn(q, n)\n",
    "    \n",
    "    # --> Input-to-state matrix.\n",
    "    D = np.zeros((q, p))\n",
    "    \n",
    "    return dlti(A, B, C, D)"
   ]
  },
  {
   "cell_type": "code",
   "execution_count": 69,
   "id": "6414970c",
   "metadata": {},
   "outputs": [],
   "source": [
    "# --> Generate a random state-space model.\n",
    "sys = rss(n:=20, p:=2, q:=p)"
   ]
  },
  {
   "cell_type": "code",
   "execution_count": 70,
   "id": "1bbce623",
   "metadata": {},
   "outputs": [],
   "source": [
    "A, B, C, D = sys.A, sys.B, sys.C, sys.D"
   ]
  },
  {
   "cell_type": "markdown",
   "id": "cea7040d",
   "metadata": {},
   "source": [
    "## Projection-based reduced-order modeling"
   ]
  },
  {
   "cell_type": "markdown",
   "id": "5211bb5c",
   "metadata": {},
   "source": [
    "### Balanced Truncation"
   ]
  },
  {
   "cell_type": "code",
   "execution_count": 71,
   "id": "7ee6983e",
   "metadata": {},
   "outputs": [],
   "source": [
    "def balanced_truncation(sys, rank):\n",
    "    \n",
    "    # -->\n",
    "    A, B, C = sys.A, sys.B, sys.C\n",
    "    \n",
    "    # --> Compute the Observability Gramian\n",
    "    Wo = solve_discrete_lyapunov(A.T, C.T @ C)\n",
    "    L = cholesky(Wo, lower=True)\n",
    "    \n",
    "    # --> Compute the Controlability Gramian\n",
    "    Wc = solve_discrete_lyapunov(A, B @ B.T)\n",
    "    U = cholesky(Wc, lower=True)\n",
    "    \n",
    "    # -->\n",
    "    Z, Σ, Yt = svd(U.T @ L, full_matrices=False)\n",
    "    Y = Yt.T\n",
    "    \n",
    "    # -->\n",
    "    Z, Σ, Y = Z[:, :rank], Σ[:rank], Y[:, :rank]\n",
    "    \n",
    "    # -->\n",
    "    V = U @ Z @ np.diag(1/np.sqrt(Σ))\n",
    "    W = L @ Y @ np.diag(1/np.sqrt(Σ))\n",
    "    \n",
    "    return V, W"
   ]
  },
  {
   "cell_type": "code",
   "execution_count": 72,
   "id": "13ccef80",
   "metadata": {},
   "outputs": [],
   "source": [
    "Wo = solve_discrete_lyapunov(A.T, C.T @ C)\n",
    "Wc = solve_discrete_lyapunov(A, B @ B.T)"
   ]
  },
  {
   "cell_type": "code",
   "execution_count": 73,
   "id": "6234553c",
   "metadata": {},
   "outputs": [],
   "source": [
    "σ = np.sqrt( np.abs(eigvals( Wc @ Wo)) )"
   ]
  },
  {
   "cell_type": "markdown",
   "id": "1c08225f",
   "metadata": {},
   "source": [
    "### Balanced Proper Orthogonal Decomposition"
   ]
  },
  {
   "cell_type": "code",
   "execution_count": 74,
   "id": "45b44147",
   "metadata": {},
   "outputs": [],
   "source": [
    "def Controlability(A, B, n=100):\n",
    "    \"\"\"\n",
    "    \n",
    "    \"\"\"    \n",
    "    # -->\n",
    "    R = np.hstack([ np.linalg.matrix_power(A, k) @ B for k in range(n) ])\n",
    "    \n",
    "    return R"
   ]
  },
  {
   "cell_type": "code",
   "execution_count": 75,
   "id": "4aa6f5a4",
   "metadata": {},
   "outputs": [],
   "source": [
    "def Observability(A, C, n=100):\n",
    "    return Controlability(A.T, C.T, n).T"
   ]
  },
  {
   "cell_type": "code",
   "execution_count": 76,
   "id": "bac1cb83",
   "metadata": {},
   "outputs": [],
   "source": [
    "def BPOD(sys, rank, p=100, q=100):\n",
    "    \n",
    "    # -->\n",
    "    A, B, C = sys.A, sys.B, sys.C\n",
    "    \n",
    "    # -->\n",
    "    Ctrb = Controlability(A, B, p)\n",
    "    Obs = Observability(A, C, q)\n",
    "\n",
    "    # -->\n",
    "    H = Obs @ Ctrb\n",
    "    U, Σ, Vt = svd(H, full_matrices=False) ; V = Vt.T\n",
    "    \n",
    "    # -->\n",
    "    U, Σ, V = U[:, :rank], Σ[:rank], V[:, :rank]\n",
    "    \n",
    "    # -->\n",
    "    P = Ctrb @ V @ np.diag(1/np.sqrt(Σ))\n",
    "    Q = Obs.T @ U @ np.diag(1/np.sqrt(Σ))\n",
    "    \n",
    "    return P, Q"
   ]
  },
  {
   "cell_type": "code",
   "execution_count": 107,
   "id": "d3789e70",
   "metadata": {},
   "outputs": [],
   "source": [
    "V, W = balanced_truncation(sys, rank:=5)"
   ]
  },
  {
   "cell_type": "code",
   "execution_count": 108,
   "id": "a5b85e97",
   "metadata": {},
   "outputs": [],
   "source": [
    "Â, B̂, Ĉ, D̂ = W.T @ A @ V, W.T @ B, C @ V, D"
   ]
  },
  {
   "cell_type": "code",
   "execution_count": 109,
   "id": "f080f9dd",
   "metadata": {},
   "outputs": [],
   "source": [
    "bpod = dlti(Â, B̂, Ĉ, D̂)"
   ]
  },
  {
   "cell_type": "code",
   "execution_count": 110,
   "id": "4f5c5f9e",
   "metadata": {},
   "outputs": [],
   "source": [
    "H = Observability(A, C) @ Controlability(A, B)\n",
    "\n",
    "Ĥ = Observability(Â, Ĉ) @ Controlability(Â, B̂)"
   ]
  },
  {
   "cell_type": "code",
   "execution_count": 111,
   "id": "e87c77be",
   "metadata": {},
   "outputs": [],
   "source": [
    "S = svdvals(H)\n",
    "\n",
    "Ŝ = svdvals(Ĥ)"
   ]
  },
  {
   "cell_type": "code",
   "execution_count": 112,
   "id": "d8bf9855",
   "metadata": {},
   "outputs": [
    {
     "data": {
      "text/plain": [
       "[<matplotlib.lines.Line2D at 0x7f11a2bb7e80>]"
      ]
     },
     "execution_count": 112,
     "metadata": {},
     "output_type": "execute_result"
    },
    {
     "data": {
      "image/png": "[encoded data removed]",
      "text/plain": [
       "<Figure size 432x288 with 1 Axes>"
      ]
     },
     "metadata": {
      "needs_background": "light"
     },
     "output_type": "display_data"
    }
   ],
   "source": [
    "plt.plot(S[:rank])\n",
    "plt.plot(Ŝ[:rank], '--')\n",
    "plt.plot(σ[:n], '--')"
   ]
  },
  {
   "cell_type": "code",
   "execution_count": 113,
   "id": "a47ac72f",
   "metadata": {},
   "outputs": [],
   "source": [
    "_, ysys = sys.impulse()\n",
    "_, bpod_ysys = bpod.impulse()"
   ]
  },
  {
   "cell_type": "code",
   "execution_count": 114,
   "id": "8257940d",
   "metadata": {},
   "outputs": [],
   "source": [
    "ysys = ysys[0]\n",
    "bpod_ysys = bpod_ysys[0]"
   ]
  },
  {
   "cell_type": "code",
   "execution_count": 115,
   "id": "8a464424",
   "metadata": {},
   "outputs": [
    {
     "data": {
      "text/plain": [
       "[<matplotlib.lines.Line2D at 0x7f11a2b299a0>,\n",
       " <matplotlib.lines.Line2D at 0x7f11a2b29ac0>]"
      ]
     },
     "execution_count": 115,
     "metadata": {},
     "output_type": "execute_result"
    },
    {
     "data": {
      "image/png": "[encoded data removed]",
      "text/plain": [
       "<Figure size 432x288 with 1 Axes>"
      ]
     },
     "metadata": {
      "needs_background": "light"
     },
     "output_type": "display_data"
    }
   ],
   "source": [
    "plt.plot(ysys)\n",
    "plt.plot(bpod_ysys, '--')"
   ]
  },
  {
   "cell_type": "code",
   "execution_count": 116,
   "id": "3858ff9b",
   "metadata": {},
   "outputs": [
    {
     "data": {
      "text/plain": [
       "13.692663170127863"
      ]
     },
     "execution_count": 116,
     "metadata": {},
     "output_type": "execute_result"
    }
   ],
   "source": [
    "np.linalg.norm(ysys-bpod_ysys) / np.linalg.norm(ysys) * 100"
   ]
  },
  {
   "cell_type": "code",
   "execution_count": 117,
   "id": "fec7e712",
   "metadata": {},
   "outputs": [],
   "source": [
    "# --> Compute the Observability Gramian\n",
    "Wo = solve_discrete_lyapunov(Â.T, Ĉ.T @ Ĉ)"
   ]
  },
  {
   "cell_type": "code",
   "execution_count": 118,
   "id": "06b1dfc6",
   "metadata": {},
   "outputs": [
    {
     "data": {
      "text/plain": [
       "<matplotlib.image.AxesImage at 0x7f11a2afd9d0>"
      ]
     },
     "execution_count": 118,
     "metadata": {},
     "output_type": "execute_result"
    },
    {
     "data": {
      "image/png": "[encoded data removed]",
      "text/plain": [
       "<Figure size 288x288 with 1 Axes>"
      ]
     },
     "metadata": {
      "needs_background": "light"
     },
     "output_type": "display_data"
    }
   ],
   "source": [
    "plt.matshow(Wo, vmin=0, vmax=Wo.max())"
   ]
  },
  {
   "cell_type": "code",
   "execution_count": 119,
   "id": "35b60735",
   "metadata": {},
   "outputs": [],
   "source": [
    "Wc = solve_discrete_lyapunov(Â, B̂ @ B̂.T)"
   ]
  },
  {
   "cell_type": "code",
   "execution_count": 120,
   "id": "085b98ad",
   "metadata": {},
   "outputs": [
    {
     "data": {
      "text/plain": [
       "<matplotlib.image.AxesImage at 0x7f11a2a59eb0>"
      ]
     },
     "execution_count": 120,
     "metadata": {},
     "output_type": "execute_result"
    },
    {
     "data": {
      "image/png": "[encoded data removed]",
      "text/plain": [
       "<Figure size 288x288 with 1 Axes>"
      ]
     },
     "metadata": {
      "needs_background": "light"
     },
     "output_type": "display_data"
    }
   ],
   "source": [
    "plt.matshow(Wc, vmin=0, vmax=Wo.max())"
   ]
  },
  {
   "cell_type": "code",
   "execution_count": null,
   "id": "93c78802",
   "metadata": {},
   "outputs": [],
   "source": []
  },
  {
   "cell_type": "code",
   "execution_count": 121,
   "id": "ba8ebeec",
   "metadata": {},
   "outputs": [],
   "source": [
    "Wo = solve_discrete_lyapunov(A.T, C.T @ C)\n",
    "Wc = solve_discrete_lyapunov(A, B @ B.T)"
   ]
  },
  {
   "cell_type": "code",
   "execution_count": 122,
   "id": "e7b0357c",
   "metadata": {},
   "outputs": [],
   "source": [
    "from scipy.linalg import block_diag\n",
    "M = block_diag(Wo, Wc)\n",
    "N = np.r_[ np.c_[np.zeros((n, n)), np.eye(n)], np.c_[np.eye(n), np.zeros((n, n))]]"
   ]
  },
  {
   "cell_type": "code",
   "execution_count": 123,
   "id": "a88c43d9",
   "metadata": {},
   "outputs": [],
   "source": [
    "λ, v = eig(M, N)"
   ]
  },
  {
   "cell_type": "code",
   "execution_count": 124,
   "id": "475bc3dc",
   "metadata": {},
   "outputs": [],
   "source": [
    "idx = λ > 0\n",
    "Λ = λ[idx].real"
   ]
  },
  {
   "cell_type": "code",
   "execution_count": 125,
   "id": "cdd08309",
   "metadata": {},
   "outputs": [],
   "source": [
    "v = v[:, idx]"
   ]
  },
  {
   "cell_type": "code",
   "execution_count": 126,
   "id": "3d5dd94f",
   "metadata": {},
   "outputs": [],
   "source": [
    "P, Q = v[:n, :rank], v[n:, :rank]"
   ]
  },
  {
   "cell_type": "code",
   "execution_count": 127,
   "id": "4b8b5147",
   "metadata": {},
   "outputs": [],
   "source": [
    "K = np.diag(1/ np.sqrt( np.diag(P.T @ Q) ) )"
   ]
  },
  {
   "cell_type": "code",
   "execution_count": 128,
   "id": "fa366d47",
   "metadata": {},
   "outputs": [],
   "source": [
    "Q = Q @ K\n",
    "P = P @ K"
   ]
  },
  {
   "cell_type": "code",
   "execution_count": 129,
   "id": "e7914981",
   "metadata": {},
   "outputs": [
    {
     "data": {
      "text/plain": [
       "[<matplotlib.lines.Line2D at 0x7f11a29db7c0>]"
      ]
     },
     "execution_count": 129,
     "metadata": {},
     "output_type": "execute_result"
    },
    {
     "data": {
      "image/png": "[encoded data removed]",
      "text/plain": [
       "<Figure size 432x288 with 1 Axes>"
      ]
     },
     "metadata": {
      "needs_background": "light"
     },
     "output_type": "display_data"
    }
   ],
   "source": [
    "plt.plot(S[:rank])\n",
    "plt.plot(Ŝ[:rank], '--')\n",
    "plt.plot(σ[:n], '--')\n",
    "plt.plot(Λ[:n], 'x')"
   ]
  },
  {
   "cell_type": "code",
   "execution_count": 130,
   "id": "85af9af3",
   "metadata": {},
   "outputs": [],
   "source": [
    "Â, B̂, Ĉ, D̂ = W.T @ A @ V, W.T @ B, C @ V, D"
   ]
  },
  {
   "cell_type": "code",
   "execution_count": 131,
   "id": "3c860d3e",
   "metadata": {},
   "outputs": [
    {
     "name": "stdout",
     "output_type": "stream",
     "text": [
      "[[ 4.19090833e+01 -6.59959225e-03 -8.80556764e-03 -1.58344341e-02\n",
      "   2.41679951e-03]\n",
      " [-6.59959225e-03  1.81170275e+01 -9.06325171e-03  2.29783239e-02\n",
      "  -4.60959150e-02]\n",
      " [-8.80556764e-03 -9.06325171e-03  1.06278685e+01  4.85014654e-02\n",
      "   3.14989090e-02]\n",
      " [-1.58344341e-02  2.29783239e-02  4.85014654e-02  1.04323254e+01\n",
      "   4.13213724e-03]\n",
      " [ 2.41679951e-03 -4.60959150e-02  3.14989090e-02  4.13213724e-03\n",
      "   8.38473435e+00]]\n",
      "\n",
      "[[ 4.18877339e+01  6.52385493e-03  1.13053165e-02  2.01305890e-02\n",
      "  -1.23329753e-02]\n",
      " [ 6.52385493e-03  1.80364086e+01  2.91577952e-02  4.65414365e-02\n",
      "  -2.73654473e-02]\n",
      " [ 1.13053165e-02  2.91577952e-02  1.06218698e+01  8.73313004e-02\n",
      "   8.11996858e-02]\n",
      " [ 2.01305890e-02  4.65414365e-02  8.73313004e-02  1.03894524e+01\n",
      "  -5.69640183e-02]\n",
      " [-1.23329753e-02 -2.73654473e-02  8.11996858e-02 -5.69640183e-02\n",
      "   8.45663386e+00]]\n"
     ]
    }
   ],
   "source": [
    "print( solve_discrete_lyapunov(Â.T, Ĉ.T @ Ĉ) )\n",
    "print()\n",
    "print( solve_discrete_lyapunov(Â, B̂ @ B̂.T) )"
   ]
  },
  {
   "cell_type": "code",
   "execution_count": 132,
   "id": "c8a6dc56",
   "metadata": {},
   "outputs": [],
   "source": [
    "Â, B̂, Ĉ, D̂ = Q.T @ A @ P, Q.T @ B, C @ P, D"
   ]
  },
  {
   "cell_type": "code",
   "execution_count": 133,
   "id": "74fc6411",
   "metadata": {},
   "outputs": [
    {
     "name": "stdout",
     "output_type": "stream",
     "text": [
      "[[ 4.19090833e+01 -6.59959225e-03 -8.80556764e-03 -1.58344341e-02\n",
      "  -2.41679950e-03]\n",
      " [-6.59959225e-03  1.81170275e+01 -9.06325171e-03  2.29783239e-02\n",
      "   4.60959150e-02]\n",
      " [-8.80556764e-03 -9.06325171e-03  1.06278685e+01  4.85014654e-02\n",
      "  -3.14989090e-02]\n",
      " [-1.58344341e-02  2.29783239e-02  4.85014654e-02  1.04323254e+01\n",
      "  -4.13213724e-03]\n",
      " [-2.41679950e-03  4.60959150e-02 -3.14989090e-02 -4.13213724e-03\n",
      "   8.38473435e+00]]\n",
      "\n",
      "[[ 4.18877339e+01  6.52385493e-03  1.13053165e-02  2.01305890e-02\n",
      "   1.23329753e-02]\n",
      " [ 6.52385493e-03  1.80364086e+01  2.91577952e-02  4.65414365e-02\n",
      "   2.73654473e-02]\n",
      " [ 1.13053165e-02  2.91577952e-02  1.06218698e+01  8.73313004e-02\n",
      "  -8.11996858e-02]\n",
      " [ 2.01305890e-02  4.65414365e-02  8.73313004e-02  1.03894524e+01\n",
      "   5.69640183e-02]\n",
      " [ 1.23329753e-02  2.73654473e-02 -8.11996858e-02  5.69640183e-02\n",
      "   8.45663386e+00]]\n"
     ]
    }
   ],
   "source": [
    "print( solve_discrete_lyapunov(Â.T, Ĉ.T @ Ĉ) )\n",
    "print()\n",
    "print( solve_discrete_lyapunov(Â, B̂ @ B̂.T) )"
   ]
  },
  {
   "cell_type": "code",
   "execution_count": 134,
   "id": "a14f1c7a",
   "metadata": {},
   "outputs": [
    {
     "data": {
      "text/plain": [
       "array([[ 4.19985509e+01, -1.01585407e-14,  1.66533454e-14,\n",
       "         0.00000000e+00, -2.55351296e-14],\n",
       "       [-4.90718577e-14,  1.82907964e+01,  4.99600361e-16,\n",
       "         5.55111512e-15, -1.47104551e-14],\n",
       "       [-3.94129174e-15, -2.08166817e-16,  1.09511126e+01,\n",
       "        -1.80103155e-12,  7.02216063e-15],\n",
       "       [-1.29340982e-14,  1.64174230e-14, -1.79567472e-12,\n",
       "         1.07323827e+01, -3.59989816e-14],\n",
       "       [-2.07611706e-14, -7.54951657e-15,  1.58206781e-14,\n",
       "        -2.85327317e-14,  8.78949278e+00]])"
      ]
     },
     "execution_count": 134,
     "metadata": {},
     "output_type": "execute_result"
    }
   ],
   "source": [
    "Q.T @ Wc @ Q"
   ]
  },
  {
   "cell_type": "code",
   "execution_count": 135,
   "id": "6caa68c1",
   "metadata": {},
   "outputs": [
    {
     "data": {
      "text/plain": [
       "array([[ 4.19985509e+01,  2.59237076e-14,  3.48610030e-14,\n",
       "        -2.90878432e-14,  1.31006317e-14],\n",
       "       [-1.15463195e-14,  1.82907964e+01, -4.32986980e-15,\n",
       "        -5.10702591e-15,  1.09356968e-14],\n",
       "       [ 1.97064587e-14, -5.32907052e-15,  1.09511126e+01,\n",
       "         3.30846461e-14,  1.51684221e-14],\n",
       "       [-4.51860771e-14,  7.86870569e-15,  3.82194276e-14,\n",
       "         1.07323827e+01,  1.02140518e-14],\n",
       "       [ 4.44089210e-15,  3.55271368e-15,  6.82787160e-15,\n",
       "         3.99680289e-15,  8.78949278e+00]])"
      ]
     },
     "execution_count": 135,
     "metadata": {},
     "output_type": "execute_result"
    }
   ],
   "source": [
    "W.T @ Wc @ W"
   ]
  },
  {
   "cell_type": "code",
   "execution_count": 136,
   "id": "031f6023",
   "metadata": {},
   "outputs": [
    {
     "data": {
      "text/plain": [
       "array([[ 4.19985509e+01, -2.22044605e-14,  7.99360578e-15,\n",
       "        -2.62012634e-14, -1.77635684e-15],\n",
       "       [ 3.73451270e-14,  1.82907964e+01,  1.74860126e-15,\n",
       "         1.75762183e-14, -1.57790447e-14],\n",
       "       [ 1.69309011e-14,  8.52096171e-15,  1.09511126e+01,\n",
       "        -1.78518311e-12,  2.66453526e-14],\n",
       "       [-1.37112544e-14,  3.10307335e-14, -1.80344628e-12,\n",
       "         1.07323827e+01, -1.54876112e-14],\n",
       "       [-3.77475828e-15, -2.06501483e-14,  8.88178420e-15,\n",
       "        -3.06421555e-14,  8.78949278e+00]])"
      ]
     },
     "execution_count": 136,
     "metadata": {},
     "output_type": "execute_result"
    }
   ],
   "source": [
    "P.T @ Wo @ P"
   ]
  },
  {
   "cell_type": "code",
   "execution_count": null,
   "id": "4ea049c6",
   "metadata": {},
   "outputs": [],
   "source": []
  },
  {
   "cell_type": "code",
   "execution_count": null,
   "id": "9003b009",
   "metadata": {},
   "outputs": [],
   "source": []
  }
 ],
 "metadata": {
  "kernelspec": {
   "display_name": "Python 3 (ipykernel)",
   "language": "python",
   "name": "python3"
  },
  "language_info": {
   "codemirror_mode": {
    "name": "ipython",
    "version": 3
   },
   "file_extension": ".py",
   "mimetype": "text/x-python",
   "name": "python",
   "nbconvert_exporter": "python",
   "pygments_lexer": "ipython3",
   "version": "3.9.12"
  }
 },
 "nbformat": 4,
 "nbformat_minor": 5
}
