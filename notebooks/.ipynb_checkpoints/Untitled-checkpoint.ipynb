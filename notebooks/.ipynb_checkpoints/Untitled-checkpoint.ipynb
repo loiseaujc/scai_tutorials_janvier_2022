{
 "cells": [
  {
   "cell_type": "code",
   "execution_count": 1,
   "id": "62518aca",
   "metadata": {},
   "outputs": [],
   "source": [
    "import numpy as np\n",
    "from scipy.linalg import pinv, svd, eig, eigvals, svdvals, inv\n",
    "\n",
    "import matplotlib.pyplot as plt\n",
    "%matplotlib inline\n",
    "\n",
    "# -->\n",
    "from scipy.signal import dlti, dlsim\n",
    "from scipy.linalg import solve_discrete_lyapunov"
   ]
  },
  {
   "cell_type": "markdown",
   "id": "7c0e0342",
   "metadata": {},
   "source": []
  },
  {
   "cell_type": "markdown",
   "id": "8cbf3106",
   "metadata": {},
   "source": [
    "# Introduction to model order reduction and system identification"
   ]
  },
  {
   "cell_type": "code",
   "execution_count": 2,
   "id": "db77742a",
   "metadata": {},
   "outputs": [],
   "source": [
    "def rss(n, p, q):\n",
    "    \"\"\"\n",
    "    Generates a random state space model of a (stable) discrete\n",
    "    time linear system with n degrees of freedom, p input and q\n",
    "    output.\n",
    "    \n",
    "    INPUT\n",
    "    -----\n",
    "    \n",
    "    n : int\n",
    "        Number of degrees of freedom in the system.\n",
    "        \n",
    "    p : int\n",
    "        Number of input to the system.\n",
    "        \n",
    "    q : int\n",
    "        Number of output of the system.\n",
    "        \n",
    "    RETURN\n",
    "    ------\n",
    "    \n",
    "    sys : d\n",
    "          State space model.\n",
    "    \n",
    "    \"\"\"\n",
    "    \n",
    "    ############################\n",
    "    #####     DYNAMICS     #####\n",
    "    ############################\n",
    "    \n",
    "    # --> Generate a random linear dynamics matrix.\n",
    "    A = np.random.randn(n, n)\n",
    "    \n",
    "    # --> Compute its eigendecomposition.\n",
    "    Λ, V = eig(A)\n",
    "    \n",
    "    # --> Forces the eigenvalues to be inside the unit circle.\n",
    "    Λ = 0.9 * Λ / np.abs(Λ).max()\n",
    "    \n",
    "    # --> Reconstruct the stable dynamics matrix.\n",
    "    A = (V @ np.diag(Λ) @ pinv(V)).real\n",
    "    \n",
    "    #########################################\n",
    "    #####     INPUT/OUTPUT MATRICES     #####\n",
    "    #########################################\n",
    "    \n",
    "    # --> Input-to-state matrix.\n",
    "    B = np.random.randn(n, p)\n",
    "    \n",
    "    # --> State-to-output matrix.\n",
    "    C = np.random.randn(q, n)\n",
    "    \n",
    "    # --> Input-to-state matrix.\n",
    "    D = np.zeros((q, p))\n",
    "    \n",
    "    return dlti(A, B, C, D)"
   ]
  },
  {
   "cell_type": "code",
   "execution_count": 88,
   "id": "6414970c",
   "metadata": {},
   "outputs": [],
   "source": [
    "# --> Generate a random state-space model.\n",
    "sys = rss(n:=100, p:=4, q:=1)"
   ]
  },
  {
   "cell_type": "code",
   "execution_count": 89,
   "id": "1bbce623",
   "metadata": {},
   "outputs": [],
   "source": [
    "A, B, C, D = sys.A, sys.B, sys.C, sys.D"
   ]
  },
  {
   "cell_type": "markdown",
   "id": "cea7040d",
   "metadata": {},
   "source": [
    "## Projection-based reduced-order modeling"
   ]
  },
  {
   "cell_type": "markdown",
   "id": "5211bb5c",
   "metadata": {},
   "source": [
    "### Balanced Truncation"
   ]
  },
  {
   "cell_type": "code",
   "execution_count": 90,
   "id": "81d75bc6",
   "metadata": {},
   "outputs": [],
   "source": [
    "# --> Compute the Observability Gramian"
   ]
  },
  {
   "cell_type": "code",
   "execution_count": 91,
   "id": "a1a60443",
   "metadata": {},
   "outputs": [],
   "source": [
    "# --> Compute the Controlability Gramian"
   ]
  },
  {
   "cell_type": "markdown",
   "id": "1c08225f",
   "metadata": {},
   "source": [
    "### Balanced Proper Orthogonal Decomposition"
   ]
  },
  {
   "cell_type": "code",
   "execution_count": null,
   "id": "45b44147",
   "metadata": {},
   "outputs": [],
   "source": []
  },
  {
   "cell_type": "markdown",
   "id": "756ade9f",
   "metadata": {},
   "source": [
    "## System identification"
   ]
  },
  {
   "cell_type": "markdown",
   "id": "f8d10dbd",
   "metadata": {},
   "source": [
    "### EigenRealization Algorithm"
   ]
  },
  {
   "cell_type": "code",
   "execution_count": null,
   "id": "005837a0",
   "metadata": {},
   "outputs": [],
   "source": []
  },
  {
   "cell_type": "code",
   "execution_count": null,
   "id": "2ce3083c",
   "metadata": {},
   "outputs": [],
   "source": []
  },
  {
   "cell_type": "code",
   "execution_count": 92,
   "id": "0e7ab76c",
   "metadata": {},
   "outputs": [],
   "source": [
    "def Controlability(A, B):\n",
    "    \"\"\"\n",
    "    \n",
    "    \"\"\"\n",
    "    \n",
    "    # -->\n",
    "    n, p = B.shape\n",
    "    \n",
    "    # -->\n",
    "    R = np.hstack([ np.linalg.matrix_power(A, k) @ B for k in range(n) ])\n",
    "    \n",
    "    return R"
   ]
  },
  {
   "cell_type": "code",
   "execution_count": 93,
   "id": "60ede7b9",
   "metadata": {},
   "outputs": [],
   "source": [
    "def Observability(A, C):\n",
    "    return Controlability(A.T, C.T).T"
   ]
  },
  {
   "cell_type": "code",
   "execution_count": 94,
   "id": "dbfd6cf3",
   "metadata": {},
   "outputs": [],
   "source": [
    "X = Controlability(A, B)\n",
    "Y = Observability(A, C).T"
   ]
  },
  {
   "cell_type": "code",
   "execution_count": 95,
   "id": "365eb93b",
   "metadata": {},
   "outputs": [],
   "source": [
    "U, Σ, Vt = svd(Y.T @ X, full_matrices=False)\n",
    "V = Vt.T"
   ]
  },
  {
   "cell_type": "code",
   "execution_count": 96,
   "id": "9d825d43",
   "metadata": {},
   "outputs": [
    {
     "data": {
      "text/plain": [
       "[<matplotlib.lines.Line2D at 0x7fb35f717640>]"
      ]
     },
     "execution_count": 96,
     "metadata": {},
     "output_type": "execute_result"
    },
    {
     "data": {
      "image/png": "[encoded data removed]",
      "text/plain": [
       "<Figure size 432x288 with 1 Axes>"
      ]
     },
     "metadata": {
      "needs_background": "light"
     },
     "output_type": "display_data"
    }
   ],
   "source": [
    "plt.plot(np.cumsum(Σ) / np.sum(Σ))"
   ]
  },
  {
   "cell_type": "code",
   "execution_count": 112,
   "id": "b20228a3",
   "metadata": {},
   "outputs": [],
   "source": [
    "rank = 10\n",
    "U, Σ, V = U[:, :rank], Σ[:rank], V[:, :rank]"
   ]
  },
  {
   "cell_type": "code",
   "execution_count": 113,
   "id": "a657554c",
   "metadata": {},
   "outputs": [],
   "source": [
    "T = X @ V @ np.diag(1/np.sqrt(Σ))\n",
    "S = Y @ U @ np.diag(1/np.sqrt(Σ))"
   ]
  },
  {
   "cell_type": "code",
   "execution_count": 114,
   "id": "fb3a2430",
   "metadata": {},
   "outputs": [],
   "source": [
    "Â, B̂, Ĉ = S.T @ A @ T , S.T @ B, C @ T"
   ]
  },
  {
   "cell_type": "code",
   "execution_count": 115,
   "id": "20358875",
   "metadata": {},
   "outputs": [],
   "source": [
    "X̂ = Controlability(Â, B̂)\n",
    "Ŷ = Observability(Â, Ĉ).T"
   ]
  },
  {
   "cell_type": "code",
   "execution_count": 116,
   "id": "e2880d61",
   "metadata": {},
   "outputs": [],
   "source": [
    "Σ = svdvals(Y.T @ X)\n",
    "S = svdvals(Ŷ.T @ X̂)"
   ]
  },
  {
   "cell_type": "code",
   "execution_count": 117,
   "id": "a8cec680",
   "metadata": {
    "scrolled": true
   },
   "outputs": [
    {
     "data": {
      "text/plain": [
       "[<matplotlib.lines.Line2D at 0x7fb35f62cb20>]"
      ]
     },
     "execution_count": 117,
     "metadata": {},
     "output_type": "execute_result"
    },
    {
     "data": {
      "image/png": "[encoded data removed]",
      "text/plain": [
       "<Figure size 432x288 with 1 Axes>"
      ]
     },
     "metadata": {
      "needs_background": "light"
     },
     "output_type": "display_data"
    }
   ],
   "source": [
    "plt.plot(np.cumsum(Σ) / np.sum(Σ))\n",
    "plt.plot(np.cumsum(S) / np.sum(Σ))"
   ]
  },
  {
   "cell_type": "code",
   "execution_count": 118,
   "id": "b8f10e51",
   "metadata": {},
   "outputs": [],
   "source": [
    "Wo = Y @ Y.T\n",
    "Wc = X @ X.T"
   ]
  },
  {
   "cell_type": "code",
   "execution_count": 119,
   "id": "b45cc7e0",
   "metadata": {},
   "outputs": [],
   "source": [
    "Wx = Wc @ Wo\n",
    "λ = eigvals(Wx).real"
   ]
  },
  {
   "cell_type": "code",
   "execution_count": 120,
   "id": "a6250115",
   "metadata": {},
   "outputs": [
    {
     "data": {
      "text/plain": [
       "[<matplotlib.lines.Line2D at 0x7fb35f58eeb0>]"
      ]
     },
     "execution_count": 120,
     "metadata": {},
     "output_type": "execute_result"
    },
    {
     "data": {
      "image/png": "[encoded data removed]",
      "text/plain": [
       "<Figure size 432x288 with 1 Axes>"
      ]
     },
     "metadata": {
      "needs_background": "light"
     },
     "output_type": "display_data"
    }
   ],
   "source": [
    "plt.plot(Σ)\n",
    "plt.plot(np.sqrt(np.abs(λ)), '--')"
   ]
  },
  {
   "cell_type": "code",
   "execution_count": null,
   "id": "b51ba465",
   "metadata": {},
   "outputs": [],
   "source": []
  },
  {
   "cell_type": "code",
   "execution_count": null,
   "id": "4026d686",
   "metadata": {},
   "outputs": [],
   "source": []
  }
 ],
 "metadata": {
  "kernelspec": {
   "display_name": "Python 3 (ipykernel)",
   "language": "python",
   "name": "python3"
  },
  "language_info": {
   "codemirror_mode": {
    "name": "ipython",
    "version": 3
   },
   "file_extension": ".py",
   "mimetype": "text/x-python",
   "name": "python",
   "nbconvert_exporter": "python",
   "pygments_lexer": "ipython3",
   "version": "3.9.12"
  }
 },
 "nbformat": 4,
 "nbformat_minor": 5
}
